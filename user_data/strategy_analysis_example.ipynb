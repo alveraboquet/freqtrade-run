{
 "cells": [
  {
   "cell_type": "markdown",
   "metadata": {},
   "source": [
    "# Strategy analysis example\n",
    "\n",
    "Debugging a strategy can be time-consuming. Freqtrade offers helper functions to visualize raw data.\n",
    "The following assumes you work with SampleStrategy, data for 5m timeframe from Binance and have downloaded them into the data directory in the default location."
   ]
  },
  {
   "cell_type": "markdown",
   "metadata": {},
   "source": [
    "## Setup"
   ]
  },
  {
   "cell_type": "code",
   "execution_count": 1,
   "metadata": {},
   "outputs": [],
   "source": [
    "from pathlib import Path\n",
    "from freqtrade.configuration import Configuration\n",
    "import os\n",
    "\n",
    "# Customize these according to your needs.\n",
    "# Initialize empty configuration object\n",
    "#config = Configuration.from_files([])\n",
    "# Optionally (recommended), use existing configuration file\n",
    "config = Configuration.from_files([\"/freqtrade/user_data/jupyter-config.json\"])\n",
    "\n",
    "# Define some constants\n",
    "config[\"timeframe\"] = \"12h\"\n",
    "# Name of the strategy class\n",
    "config[\"strategy\"] = \"QuadrupleCCIStrategy\"\n",
    "# Location of the data\n",
    "data_location = config['datadir']\n",
    "# Pair to analyze - Only use one pair here\n",
    "pair = \"BTC/USDT\""
   ]
  },
  {
   "cell_type": "code",
   "execution_count": 2,
   "metadata": {},
   "outputs": [
    {
     "name": "stdout",
     "output_type": "stream",
     "text": [
      "Loaded 0 rows of data for BTC/USDT from /freqtrade/user_data/data/binance\n"
     ]
    },
    {
     "data": {
      "text/html": [
       "<div>\n",
       "<style scoped>\n",
       "    .dataframe tbody tr th:only-of-type {\n",
       "        vertical-align: middle;\n",
       "    }\n",
       "\n",
       "    .dataframe tbody tr th {\n",
       "        vertical-align: top;\n",
       "    }\n",
       "\n",
       "    .dataframe thead th {\n",
       "        text-align: right;\n",
       "    }\n",
       "</style>\n",
       "<table border=\"1\" class=\"dataframe\">\n",
       "  <thead>\n",
       "    <tr style=\"text-align: right;\">\n",
       "      <th></th>\n",
       "      <th>date</th>\n",
       "      <th>open</th>\n",
       "      <th>high</th>\n",
       "      <th>low</th>\n",
       "      <th>close</th>\n",
       "      <th>volume</th>\n",
       "    </tr>\n",
       "  </thead>\n",
       "  <tbody>\n",
       "  </tbody>\n",
       "</table>\n",
       "</div>"
      ],
      "text/plain": [
       "Empty DataFrame\n",
       "Columns: [date, open, high, low, close, volume]\n",
       "Index: []"
      ]
     },
     "execution_count": 2,
     "metadata": {},
     "output_type": "execute_result"
    }
   ],
   "source": [
    "# Load data using values set above\n",
    "from freqtrade.data.history import load_pair_history\n",
    "from freqtrade.enums import CandleType\n",
    "\n",
    "candles = load_pair_history(datadir=data_location,\n",
    "                            timeframe=config[\"timeframe\"],\n",
    "                            pair=pair,\n",
    "                            data_format = \"hdf5\",\n",
    "                            candle_type=CandleType.SPOT,\n",
    "                            )\n",
    "\n",
    "# Confirm success\n",
    "print(\"Loaded \" + str(len(candles)) + f\" rows of data for {pair} from {data_location}\")\n",
    "candles.head()"
   ]
  },
  {
   "cell_type": "markdown",
   "metadata": {},
   "source": [
    "## Load and run strategy\n",
    "* Rerun each time the strategy file is changed"
   ]
  },
  {
   "cell_type": "code",
   "execution_count": 8,
   "metadata": {},
   "outputs": [
    {
     "name": "stdout",
     "output_type": "stream",
     "text": [
      "data frame length 0\n"
     ]
    },
    {
     "ename": "Exception",
     "evalue": "inputs are all NaN",
     "output_type": "error",
     "traceback": [
      "\u001b[0;31m---------------------------------------------------------------------------\u001b[0m",
      "\u001b[0;31mException\u001b[0m                                 Traceback (most recent call last)",
      "Cell \u001b[0;32mIn [8], line 8\u001b[0m\n\u001b[1;32m      5\u001b[0m strategy\u001b[38;5;241m.\u001b[39mdp \u001b[38;5;241m=\u001b[39m DataProvider(config, \u001b[38;5;28;01mNone\u001b[39;00m, \u001b[38;5;28;01mNone\u001b[39;00m)\n\u001b[1;32m      7\u001b[0m \u001b[38;5;66;03m# Generate buy/sell signals using strategy\u001b[39;00m\n\u001b[0;32m----> 8\u001b[0m df \u001b[38;5;241m=\u001b[39m \u001b[43mstrategy\u001b[49m\u001b[38;5;241;43m.\u001b[39;49m\u001b[43manalyze_ticker\u001b[49m\u001b[43m(\u001b[49m\u001b[43mcandles\u001b[49m\u001b[43m,\u001b[49m\u001b[43m \u001b[49m\u001b[43m{\u001b[49m\u001b[38;5;124;43m'\u001b[39;49m\u001b[38;5;124;43mpair\u001b[39;49m\u001b[38;5;124;43m'\u001b[39;49m\u001b[43m:\u001b[49m\u001b[43m \u001b[49m\u001b[43mpair\u001b[49m\u001b[43m}\u001b[49m\u001b[43m)\u001b[49m\n\u001b[1;32m      9\u001b[0m df\u001b[38;5;241m.\u001b[39mtail()\n",
      "File \u001b[0;32m/freqtrade/freqtrade/strategy/interface.py:709\u001b[0m, in \u001b[0;36mIStrategy.analyze_ticker\u001b[0;34m(self, dataframe, metadata)\u001b[0m\n\u001b[1;32m    701\u001b[0m \u001b[38;5;124;03m\"\"\"\u001b[39;00m\n\u001b[1;32m    702\u001b[0m \u001b[38;5;124;03mParses the given candle (OHLCV) data and returns a populated DataFrame\u001b[39;00m\n\u001b[1;32m    703\u001b[0m \u001b[38;5;124;03madd several TA indicators and entry order signal to it\u001b[39;00m\n\u001b[0;32m   (...)\u001b[0m\n\u001b[1;32m    706\u001b[0m \u001b[38;5;124;03m:return: DataFrame of candle (OHLCV) data with indicator data and signals added\u001b[39;00m\n\u001b[1;32m    707\u001b[0m \u001b[38;5;124;03m\"\"\"\u001b[39;00m\n\u001b[1;32m    708\u001b[0m logger\u001b[38;5;241m.\u001b[39mdebug(\u001b[38;5;124m\"\u001b[39m\u001b[38;5;124mTA Analysis Launched\u001b[39m\u001b[38;5;124m\"\u001b[39m)\n\u001b[0;32m--> 709\u001b[0m dataframe \u001b[38;5;241m=\u001b[39m \u001b[38;5;28;43mself\u001b[39;49m\u001b[38;5;241;43m.\u001b[39;49m\u001b[43madvise_indicators\u001b[49m\u001b[43m(\u001b[49m\u001b[43mdataframe\u001b[49m\u001b[43m,\u001b[49m\u001b[43m \u001b[49m\u001b[43mmetadata\u001b[49m\u001b[43m)\u001b[49m\n\u001b[1;32m    710\u001b[0m dataframe \u001b[38;5;241m=\u001b[39m \u001b[38;5;28mself\u001b[39m\u001b[38;5;241m.\u001b[39madvise_entry(dataframe, metadata)\n\u001b[1;32m    711\u001b[0m dataframe \u001b[38;5;241m=\u001b[39m \u001b[38;5;28mself\u001b[39m\u001b[38;5;241m.\u001b[39madvise_exit(dataframe, metadata)\n",
      "File \u001b[0;32m/freqtrade/freqtrade/strategy/interface.py:1207\u001b[0m, in \u001b[0;36mIStrategy.advise_indicators\u001b[0;34m(self, dataframe, metadata)\u001b[0m\n\u001b[1;32m   1203\u001b[0m \u001b[38;5;28;01mfor\u001b[39;00m inf_data, populate_fn \u001b[38;5;129;01min\u001b[39;00m \u001b[38;5;28mself\u001b[39m\u001b[38;5;241m.\u001b[39m_ft_informative:\n\u001b[1;32m   1204\u001b[0m     dataframe \u001b[38;5;241m=\u001b[39m _create_and_merge_informative_pair(\n\u001b[1;32m   1205\u001b[0m         \u001b[38;5;28mself\u001b[39m, dataframe, metadata, inf_data, populate_fn)\n\u001b[0;32m-> 1207\u001b[0m \u001b[38;5;28;01mreturn\u001b[39;00m \u001b[38;5;28;43mself\u001b[39;49m\u001b[38;5;241;43m.\u001b[39;49m\u001b[43mpopulate_indicators\u001b[49m\u001b[43m(\u001b[49m\u001b[43mdataframe\u001b[49m\u001b[43m,\u001b[49m\u001b[43m \u001b[49m\u001b[43mmetadata\u001b[49m\u001b[43m)\u001b[49m\n",
      "File \u001b[0;32m/freqtrade/user_data/strategies/quadruplecci_strategy.py:173\u001b[0m, in \u001b[0;36mQuadrupleCCIStrategy.populate_indicators\u001b[0;34m(self, dataframe, metadata)\u001b[0m\n\u001b[1;32m    153\u001b[0m \u001b[38;5;28;01mdef\u001b[39;00m \u001b[38;5;21mpopulate_indicators\u001b[39m(\u001b[38;5;28mself\u001b[39m, dataframe: DataFrame, metadata: \u001b[38;5;28mdict\u001b[39m) \u001b[38;5;241m-\u001b[39m\u001b[38;5;241m>\u001b[39m DataFrame:\n\u001b[1;32m    154\u001b[0m   \n\u001b[1;32m    155\u001b[0m \u001b[38;5;66;03m#   #https://github.com/freqtrade/freqtrade/issues/2961\u001b[39;00m\n\u001b[0;32m   (...)\u001b[0m\n\u001b[1;32m    170\u001b[0m   \n\u001b[1;32m    171\u001b[0m   \u001b[38;5;66;03m# Fast Slow Signal CCI - fast signal=fs, slow signal=ss\u001b[39;00m\n\u001b[1;32m    172\u001b[0m   \u001b[38;5;28mprint\u001b[39m(\u001b[38;5;124m\"\u001b[39m\u001b[38;5;124mdata frame length\u001b[39m\u001b[38;5;124m\"\u001b[39m, \u001b[38;5;28mlen\u001b[39m(dataframe))\n\u001b[0;32m--> 173\u001b[0m   dataframe[\u001b[38;5;124m'\u001b[39m\u001b[38;5;124mcci_fs\u001b[39m\u001b[38;5;124m'\u001b[39m] \u001b[38;5;241m=\u001b[39m \u001b[43mta\u001b[49m\u001b[38;5;241;43m.\u001b[39;49m\u001b[43mCCI\u001b[49m\u001b[43m(\u001b[49m\u001b[43mdataframe\u001b[49m\u001b[43m,\u001b[49m\u001b[43m \u001b[49m\u001b[43mtimeperiod\u001b[49m\u001b[38;5;241;43m=\u001b[39;49m\u001b[38;5;28;43mself\u001b[39;49m\u001b[38;5;241;43m.\u001b[39;49m\u001b[43mcci_fast_signal_length\u001b[49m\u001b[43m)\u001b[49m\n\u001b[1;32m    174\u001b[0m   dataframe[\u001b[38;5;124m'\u001b[39m\u001b[38;5;124mcci_ss\u001b[39m\u001b[38;5;124m'\u001b[39m] \u001b[38;5;241m=\u001b[39m ta\u001b[38;5;241m.\u001b[39mCCI(dataframe, timeperiod\u001b[38;5;241m=\u001b[39m\u001b[38;5;28mself\u001b[39m\u001b[38;5;241m.\u001b[39mcci_slow_signal_length)\n\u001b[1;32m    176\u001b[0m   \u001b[38;5;66;03m# Fast Slow Trend CCI - fast trend=ft, slow trend=st\u001b[39;00m\n",
      "File \u001b[0;32mtalib/_abstract.pxi:427\u001b[0m, in \u001b[0;36mtalib._ta_lib.Function.__call__\u001b[0;34m()\u001b[0m\n",
      "File \u001b[0;32mtalib/_abstract.pxi:472\u001b[0m, in \u001b[0;36mtalib._ta_lib.Function.__call_function\u001b[0;34m()\u001b[0m\n",
      "File \u001b[0;32m~/.local/lib/python3.10/site-packages/talib/__init__.py:64\u001b[0m, in \u001b[0;36m_wrapper.<locals>.wrapper\u001b[0;34m(*args, **kwds)\u001b[0m\n\u001b[1;32m     61\u001b[0m     _args \u001b[38;5;241m=\u001b[39m args\n\u001b[1;32m     62\u001b[0m     _kwds \u001b[38;5;241m=\u001b[39m kwds\n\u001b[0;32m---> 64\u001b[0m result \u001b[38;5;241m=\u001b[39m \u001b[43mfunc\u001b[49m\u001b[43m(\u001b[49m\u001b[38;5;241;43m*\u001b[39;49m\u001b[43m_args\u001b[49m\u001b[43m,\u001b[49m\u001b[43m \u001b[49m\u001b[38;5;241;43m*\u001b[39;49m\u001b[38;5;241;43m*\u001b[39;49m\u001b[43m_kwds\u001b[49m\u001b[43m)\u001b[49m\n\u001b[1;32m     66\u001b[0m \u001b[38;5;66;03m# check to see if we got a streaming result\u001b[39;00m\n\u001b[1;32m     67\u001b[0m first_result \u001b[38;5;241m=\u001b[39m result[\u001b[38;5;241m0\u001b[39m] \u001b[38;5;28;01mif\u001b[39;00m \u001b[38;5;28misinstance\u001b[39m(result, \u001b[38;5;28mtuple\u001b[39m) \u001b[38;5;28;01melse\u001b[39;00m result\n",
      "File \u001b[0;32mtalib/_func.pxi:688\u001b[0m, in \u001b[0;36mtalib._ta_lib.CCI\u001b[0;34m()\u001b[0m\n",
      "File \u001b[0;32mtalib/_func.pxi:99\u001b[0m, in \u001b[0;36mtalib._ta_lib.check_begidx3\u001b[0;34m()\u001b[0m\n",
      "\u001b[0;31mException\u001b[0m: inputs are all NaN"
     ]
    }
   ],
   "source": [
    "# Load strategy using values set above\n",
    "from freqtrade.resolvers import StrategyResolver\n",
    "from freqtrade.data.dataprovider import DataProvider\n",
    "strategy = StrategyResolver.load_strategy(config)\n",
    "strategy.dp = DataProvider(config, None, None)\n",
    "\n",
    "# Generate buy/sell signals using strategy\n",
    "df = strategy.analyze_ticker(candles, {'pair': pair})\n",
    "df.tail()"
   ]
  },
  {
   "cell_type": "markdown",
   "metadata": {},
   "source": [
    "### Display the trade details\n",
    "\n",
    "* Note that using `data.head()` would also work, however most indicators have some \"startup\" data at the top of the dataframe.\n",
    "* Some possible problems\n",
    "    * Columns with NaN values at the end of the dataframe\n",
    "    * Columns used in `crossed*()` functions with completely different units\n",
    "* Comparison with full backtest\n",
    "    * having 200 buy signals as output for one pair from `analyze_ticker()` does not necessarily mean that 200 trades will be made during backtesting.\n",
    "    * Assuming you use only one condition such as, `df['rsi'] < 30` as buy condition, this will generate multiple \"buy\" signals for each pair in sequence (until rsi returns > 29). The bot will only buy on the first of these signals (and also only if a trade-slot (\"max_open_trades\") is still available), or on one of the middle signals, as soon as a \"slot\" becomes available.  \n"
   ]
  },
  {
   "cell_type": "code",
   "execution_count": null,
   "metadata": {},
   "outputs": [],
   "source": [
    "# Report results\n",
    "print(f\"Generated {df['enter_long'].sum()} entry signals\")\n",
    "data = df.set_index('date', drop=False)\n",
    "data.tail()"
   ]
  },
  {
   "cell_type": "markdown",
   "metadata": {},
   "source": [
    "## Load existing objects into a Jupyter notebook\n",
    "\n",
    "The following cells assume that you have already generated data using the cli.  \n",
    "They will allow you to drill deeper into your results, and perform analysis which otherwise would make the output very difficult to digest due to information overload."
   ]
  },
  {
   "cell_type": "markdown",
   "metadata": {},
   "source": [
    "### Load backtest results to pandas dataframe\n",
    "\n",
    "Analyze a trades dataframe (also used below for plotting)"
   ]
  },
  {
   "cell_type": "code",
   "execution_count": 4,
   "metadata": {},
   "outputs": [],
   "source": [
    "from freqtrade.data.btanalysis import load_backtest_data, load_backtest_stats\n",
    "\n",
    "# if backtest_dir points to a directory, it'll automatically load the last backtest file.\n",
    "backtest_dir = config[\"user_data_dir\"] / \"backtest_results\"\n",
    "# backtest_dir can also point to a specific file \n",
    "# backtest_dir = config[\"user_data_dir\"] / \"backtest_results/backtest-result-2020-07-01_20-04-22.json\""
   ]
  },
  {
   "cell_type": "code",
   "execution_count": 5,
   "metadata": {},
   "outputs": [
    {
     "name": "stdout",
     "output_type": "stream",
     "text": [
      "[{'key': 'BTC/USDT', 'trades': 114, 'profit_mean': 0.008779589194425171, 'profit_mean_pct': 0.8779589194425171, 'profit_sum': 1.0008731681644696, 'profit_sum_pct': 100.09, 'profit_total_abs': 419.21719711, 'profit_total': 0.41921719711, 'profit_total_pct': 41.92, 'duration_avg': '1 day, 22:38:00', 'wins': 95, 'draws': 0, 'losses': 19}, {'key': 'ETH/USDT', 'trades': 122, 'profit_mean': 0.003389965297944723, 'profit_mean_pct': 0.3389965297944723, 'profit_sum': 0.41357576634925625, 'profit_sum_pct': 41.36, 'profit_total_abs': 128.77766765, 'profit_total': 0.12877766765, 'profit_total_pct': 12.88, 'duration_avg': '20:57:00', 'wins': 100, 'draws': 0, 'losses': 22}, {'key': 'TOTAL', 'trades': 236, 'profit_mean': 0.005993427688617482, 'profit_mean_pct': 0.5993427688617482, 'profit_sum': 1.4144489345137257, 'profit_sum_pct': 141.44, 'profit_total_abs': 547.99486476, 'profit_total': 0.54799486476, 'profit_total_pct': 54.8, 'duration_avg': '1 day, 9:21:00', 'wins': 195, 'draws': 0, 'losses': 41}]\n",
      "['BTC/USDT', 'ETH/USDT']\n",
      "3.828578697232326\n",
      "0.37655459294521165\n",
      "2021-06-29 12:00:00\n",
      "2021-09-20 00:00:00\n",
      "[{'key': 'QuadrupleCCIStrategy', 'trades': 236, 'profit_mean': 0.005993427688617482, 'profit_mean_pct': 0.5993427688617482, 'profit_sum': 1.4144489345137257, 'profit_sum_pct': 141.44, 'profit_total_abs': 547.99486476, 'profit_total': 0.54799486476, 'profit_total_pct': 54.8, 'duration_avg': '1 day, 9:21:00', 'wins': 195, 'draws': 0, 'losses': 41, 'max_drawdown_account': 0.11568341645739096, 'max_drawdown_abs': '183.948'}]\n"
     ]
    }
   ],
   "source": [
    "# You can get the full backtest statistics by using the following command.\n",
    "# This contains all information used to generate the backtest result.\n",
    "stats = load_backtest_stats(backtest_dir)\n",
    "\n",
    "strategy = config[\"strategy\"]\n",
    "# All statistics are available per strategy, so if `--strategy-list` was used during backtest, this will be reflected here as well.\n",
    "# Example usages:\n",
    "print(stats['strategy'][strategy]['results_per_pair'])\n",
    "# Get pairlist used for this backtest\n",
    "print(stats['strategy'][strategy]['pairlist'])\n",
    "# Get market change (average change of all pairs from start to end of the backtest period)\n",
    "print(stats['strategy'][strategy]['market_change'])\n",
    "# Maximum drawdown ()\n",
    "print(stats['strategy'][strategy]['max_drawdown'])\n",
    "# Maximum drawdown start and end\n",
    "print(stats['strategy'][strategy]['drawdown_start'])\n",
    "print(stats['strategy'][strategy]['drawdown_end'])\n",
    "\n",
    "\n",
    "# Get strategy comparison (only relevant if multiple strategies were compared)\n",
    "print(stats['strategy_comparison'])\n"
   ]
  },
  {
   "cell_type": "code",
   "execution_count": 6,
   "metadata": {},
   "outputs": [
    {
     "data": {
      "text/plain": [
       "pair      exit_reason       \n",
       "BTC/USDT  trailing_stop_loss     95\n",
       "          stop_loss              19\n",
       "ETH/USDT  trailing_stop_loss    100\n",
       "          stop_loss              22\n",
       "Name: exit_reason, dtype: int64"
      ]
     },
     "execution_count": 6,
     "metadata": {},
     "output_type": "execute_result"
    }
   ],
   "source": [
    "# Load backtested trades as dataframe\n",
    "trades = load_backtest_data(backtest_dir)\n",
    "\n",
    "# Show value-counts per pair\n",
    "trades.groupby(\"pair\")[\"exit_reason\"].value_counts()"
   ]
  },
  {
   "cell_type": "markdown",
   "metadata": {},
   "source": [
    "## Plotting daily profit / equity line"
   ]
  },
  {
   "cell_type": "code",
   "execution_count": null,
   "metadata": {},
   "outputs": [],
   "source": [
    "# Plotting equity line (starting with 0 on day 1 and adding daily profit for each backtested day)\n",
    "\n",
    "from freqtrade.configuration import Configuration\n",
    "from freqtrade.data.btanalysis import load_backtest_data, load_backtest_stats\n",
    "import plotly.express as px\n",
    "import pandas as pd\n",
    "\n",
    "# strategy = 'SampleStrategy'\n",
    "# config = Configuration.from_files([\"user_data/config.json\"])\n",
    "# backtest_dir = config[\"user_data_dir\"] / \"backtest_results\"\n",
    "\n",
    "stats = load_backtest_stats(backtest_dir)\n",
    "strategy_stats = stats['strategy'][strategy]\n",
    "\n",
    "dates = []\n",
    "profits = []\n",
    "for date_profit in strategy_stats['daily_profit']:\n",
    "    dates.append(date_profit[0])\n",
    "    profits.append(date_profit[1])\n",
    "\n",
    "equity = 0\n",
    "equity_daily = []\n",
    "for daily_profit in profits:\n",
    "    equity_daily.append(equity)\n",
    "    equity += float(daily_profit)\n",
    "\n",
    "\n",
    "df = pd.DataFrame({'dates': dates,'equity_daily': equity_daily})\n",
    "\n",
    "fig = px.line(df, x=\"dates\", y=\"equity_daily\")\n",
    "fig.show()\n"
   ]
  },
  {
   "cell_type": "markdown",
   "metadata": {},
   "source": [
    "### Load live trading results into a pandas dataframe\n",
    "\n",
    "In case you did already some trading and want to analyze your performance"
   ]
  },
  {
   "cell_type": "code",
   "execution_count": null,
   "metadata": {},
   "outputs": [],
   "source": [
    "from freqtrade.data.btanalysis import load_trades_from_db\n",
    "\n",
    "# Fetch trades from database\n",
    "trades = load_trades_from_db(\"sqlite:///tradesv3.sqlite\")\n",
    "\n",
    "# Display results\n",
    "trades.groupby(\"pair\")[\"exit_reason\"].value_counts()"
   ]
  },
  {
   "cell_type": "markdown",
   "metadata": {},
   "source": [
    "## Analyze the loaded trades for trade parallelism\n",
    "This can be useful to find the best `max_open_trades` parameter, when used with backtesting in conjunction with `--disable-max-market-positions`.\n",
    "\n",
    "`analyze_trade_parallelism()` returns a timeseries dataframe with an \"open_trades\" column, specifying the number of open trades for each candle."
   ]
  },
  {
   "cell_type": "code",
   "execution_count": null,
   "metadata": {},
   "outputs": [],
   "source": [
    "from freqtrade.data.btanalysis import analyze_trade_parallelism\n",
    "\n",
    "# Analyze the above\n",
    "parallel_trades = analyze_trade_parallelism(trades, '5m')\n",
    "\n",
    "parallel_trades.plot()"
   ]
  },
  {
   "cell_type": "markdown",
   "metadata": {},
   "source": [
    "## Plot results\n",
    "\n",
    "Freqtrade offers interactive plotting capabilities based on plotly."
   ]
  },
  {
   "cell_type": "code",
   "execution_count": null,
   "metadata": {},
   "outputs": [],
   "source": [
    "from freqtrade.plot.plotting import  generate_candlestick_graph\n",
    "# Limit graph period to keep plotly quick and reactive\n",
    "\n",
    "# Filter trades to one pair\n",
    "trades_red = trades.loc[trades['pair'] == pair]\n",
    "\n",
    "data_red = data['2019-06-01':'2019-06-10']\n",
    "# Generate candlestick graph\n",
    "graph = generate_candlestick_graph(pair=pair,\n",
    "                                   data=data_red,\n",
    "                                   trades=trades_red,\n",
    "                                   indicators1=['sma20', 'ema50', 'ema55'],\n",
    "                                   indicators2=['rsi', 'macd', 'macdsignal', 'macdhist']\n",
    "                                  )\n",
    "\n",
    "\n"
   ]
  },
  {
   "cell_type": "code",
   "execution_count": null,
   "metadata": {},
   "outputs": [],
   "source": [
    "# Show graph inline\n",
    "# graph.show()\n",
    "\n",
    "# Render graph in a seperate window\n",
    "graph.show(renderer=\"browser\")\n"
   ]
  },
  {
   "cell_type": "markdown",
   "metadata": {},
   "source": [
    "## Plot average profit per trade as distribution graph"
   ]
  },
  {
   "cell_type": "code",
   "execution_count": null,
   "metadata": {},
   "outputs": [],
   "source": [
    "import plotly.figure_factory as ff\n",
    "\n",
    "hist_data = [trades.profit_ratio]\n",
    "group_labels = ['profit_ratio']  # name of the dataset\n",
    "\n",
    "fig = ff.create_distplot(hist_data, group_labels, bin_size=0.01)\n",
    "fig.show()\n"
   ]
  },
  {
   "cell_type": "markdown",
   "metadata": {},
   "source": [
    "Feel free to submit an issue or Pull Request enhancing this document if you would like to share ideas on how to best analyze the data."
   ]
  }
 ],
 "metadata": {
  "file_extension": ".py",
  "kernelspec": {
   "display_name": "Python 3 (ipykernel)",
   "language": "python",
   "name": "python3"
  },
  "language_info": {
   "codemirror_mode": {
    "name": "ipython",
    "version": 3
   },
   "file_extension": ".py",
   "mimetype": "text/x-python",
   "name": "python",
   "nbconvert_exporter": "python",
   "pygments_lexer": "ipython3",
   "version": "3.10.7"
  },
  "mimetype": "text/x-python",
  "name": "python",
  "npconvert_exporter": "python",
  "pygments_lexer": "ipython3",
  "toc": {
   "base_numbering": 1,
   "nav_menu": {},
   "number_sections": true,
   "sideBar": true,
   "skip_h1_title": false,
   "title_cell": "Table of Contents",
   "title_sidebar": "Contents",
   "toc_cell": false,
   "toc_position": {},
   "toc_section_display": true,
   "toc_window_display": false
  },
  "varInspector": {
   "cols": {
    "lenName": 16,
    "lenType": 16,
    "lenVar": 40
   },
   "kernels_config": {
    "python": {
     "delete_cmd_postfix": "",
     "delete_cmd_prefix": "del ",
     "library": "var_list.py",
     "varRefreshCmd": "print(var_dic_list())"
    },
    "r": {
     "delete_cmd_postfix": ") ",
     "delete_cmd_prefix": "rm(",
     "library": "var_list.r",
     "varRefreshCmd": "cat(var_dic_list()) "
    }
   },
   "types_to_exclude": [
    "module",
    "function",
    "builtin_function_or_method",
    "instance",
    "_Feature"
   ],
   "window_display": false
  },
  "version": 3,
  "vscode": {
   "interpreter": {
    "hash": "675f32a300d6d26767470181ad0b11dd4676bcce7ed1dd2ffe2fbc370c95fc7c"
   }
  }
 },
 "nbformat": 4,
 "nbformat_minor": 4
}
